{
  "nbformat": 4,
  "nbformat_minor": 0,
  "metadata": {
    "colab": {
      "provenance": [],
      "authorship_tag": "ABX9TyOYodsIs5OUNhsvvtApHU3b",
      "include_colab_link": true
    },
    "kernelspec": {
      "name": "python3",
      "display_name": "Python 3"
    },
    "language_info": {
      "name": "python"
    }
  },
  "cells": [
    {
      "cell_type": "markdown",
      "metadata": {
        "id": "view-in-github",
        "colab_type": "text"
      },
      "source": [
        "<a href=\"https://colab.research.google.com/github/carlosLTorresULEAM/IA2doParcial/blob/main/Mi%C3%A9rcoles_26_06_2024.ipynb\" target=\"_parent\"><img src=\"https://colab.research.google.com/assets/colab-badge.svg\" alt=\"Open In Colab\"/></a>"
      ]
    },
    {
      "cell_type": "code",
      "execution_count": 9,
      "metadata": {
        "colab": {
          "base_uri": "https://localhost:8080/"
        },
        "id": "UWhQlFTUuS0X",
        "outputId": "e00e040d-f948-4b8d-aad2-f2cd445b4566"
      },
      "outputs": [
        {
          "output_type": "stream",
          "name": "stdout",
          "text": [
            "{3}\n",
            "{True, 3, 'Carlos'}\n",
            "{True, 5, 3, 'Carlos'}\n",
            "{True, 5, 3}\n",
            "3\n",
            "True\n",
            "True\n",
            "5\n",
            "3\n"
          ]
        }
      ],
      "source": [
        "#SET AS A CONTAINER\n",
        "\n",
        "var1=set()\n",
        "var1.add(3)\n",
        "print(var1)\n",
        "var1.add('Carlos')\n",
        "var1.add(True)\n",
        "print(var1)\n",
        "var1.add(5)\n",
        "print(var1)\n",
        "var1.remove('Carlos')\n",
        "print(var1)\n",
        "print(len(var1))\n",
        "print(3 in var1)\n",
        "\n",
        "for elem in var1:\n",
        "  print(elem)"
      ]
    },
    {
      "cell_type": "code",
      "source": [
        "#JUMPLES\n",
        "var2=tuple()\n",
        "var=(1,2,3,4,5)\n",
        "print(type(var))\n",
        "aux=list(var)\n",
        "print(type(aux))\n",
        "\n",
        "aux[2]=300\n",
        "var=tuple(aux)\n",
        "print(var)\n",
        "print(type(var))"
      ],
      "metadata": {
        "colab": {
          "base_uri": "https://localhost:8080/"
        },
        "id": "XidNoKKxzZt6",
        "outputId": "c2df99ec-90ac-4f48-e55d-d4d68dba19ab"
      },
      "execution_count": 13,
      "outputs": [
        {
          "output_type": "stream",
          "name": "stdout",
          "text": [
            "<class 'tuple'>\n",
            "<class 'list'>\n",
            "(1, 2, 300, 4, 5)\n",
            "<class 'tuple'>\n"
          ]
        }
      ]
    },
    {
      "cell_type": "code",
      "source": [
        "#HOW TO DEFINA TO CLASS\n",
        "class saludo(object):\n",
        "  def __init__(self,name):\n",
        "    print(\"THE ONJECT HAS BEEN CREATE\")\n",
        "    self.name=name\n",
        "\n",
        "  def saludoPersona(self):\n",
        "    return f\"Hola, {self.name}\"\n",
        "\n",
        "name1=saludo('Carlos')\n",
        "name2=saludo('Cesar')\n",
        "name3=saludo('Brandon')\n",
        "\n",
        "print(name1.saludoPersona())\n",
        "print(name2.saludoPersona())\n",
        "print(name3.saludoPersona())\n"
      ],
      "metadata": {
        "colab": {
          "base_uri": "https://localhost:8080/"
        },
        "id": "ErY6C0MM2SZW",
        "outputId": "d4d55742-6265-4243-e0b1-180a1a8c3f10"
      },
      "execution_count": 22,
      "outputs": [
        {
          "output_type": "stream",
          "name": "stdout",
          "text": [
            "THE ONJECT HAS BEEN CREATE\n",
            "THE ONJECT HAS BEEN CREATE\n",
            "THE ONJECT HAS BEEN CREATE\n",
            "Hola, Carlos\n",
            "Hola, Cesar\n",
            "Hola, Brandon\n"
          ]
        }
      ]
    },
    {
      "cell_type": "code",
      "source": [
        "class Calculadora:\n",
        "    def __init__(self, radio, base, altura, lado): #Fixed the typo here, it should be __init__\n",
        "        self.radio = radio\n",
        "        self.base = base\n",
        "        self.altura = altura\n",
        "        self.lado = lado\n",
        "\n",
        "    def area_circulo(self):\n",
        "        return 3.1416 * self.radio ** 2\n",
        "\n",
        "    def area_triangulo(self):\n",
        "        return (self.base * self.altura) / 2\n",
        "\n",
        "    def area_cuadrado(self):\n",
        "      return self.lado ** 2\n",
        "\n",
        "# Example usage\n",
        "calculadora = Calculadora(8, 7, 14, 8)\n",
        "\n",
        "area_circulo = calculadora.area_circulo()\n",
        "print(\"Area del circulo:\", area_circulo)\n",
        "\n",
        "area_triangulo = calculadora.area_triangulo()\n",
        "print(\"Area del triangulo:\", area_triangulo)\n",
        "\n",
        "area_cuadrado = calculadora.area_cuadrado()\n",
        "print(\"Area del cuadrado:\", area_cuadrado)"
      ],
      "metadata": {
        "colab": {
          "base_uri": "https://localhost:8080/"
        },
        "id": "zuTuewVq52gK",
        "outputId": "f10f2629-5bf7-472b-c274-6273a03f01f7"
      },
      "execution_count": 31,
      "outputs": [
        {
          "output_type": "stream",
          "name": "stdout",
          "text": [
            "Area del circulo: 201.0624\n",
            "Area del triangulo: 49.0\n",
            "Area del cuadrado: 64\n"
          ]
        }
      ]
    },
    {
      "cell_type": "code",
      "source": [
        "# prompt: Crear una clase que permita ingresar el nombre y la edad de los estudiantes y necesito una función que cuando imprima el nombre sea en mayúscula y otra función que imprima todo en minúscula esto debe aplicar para las dos clases\n",
        "\n",
        "class Estudiante:\n",
        "  def __init__(self, nombre, edad):\n",
        "    self.nombre = nombre\n",
        "    self.edad = edad\n",
        "\n",
        "  def nombre_mayuscula(self):\n",
        "    return self.nombre.upper()\n",
        "\n",
        "  def todo_minuscula(self):\n",
        "    return self.nombre.lower() + \", \" + str(self.edad).lower()\n",
        "\n",
        "# Crear instancias de la clase\n",
        "estudiante1 = Estudiante(\"Juan\", 20)\n",
        "estudiante2 = Estudiante(\"María\", 21)\n",
        "\n",
        "# Imprimir el nombre en mayúscula\n",
        "print(estudiante1.nombre_mayuscula())\n",
        "print(estudiante2.nombre_mayuscula())\n",
        "\n",
        "# Imprimir todo en minúscula\n",
        "print(estudiante1.todo_minuscula())\n",
        "print(estudiante2.todo_minuscula())\n"
      ],
      "metadata": {
        "colab": {
          "base_uri": "https://localhost:8080/"
        },
        "id": "b23sxW_H_Ggh",
        "outputId": "2b8e0b83-079e-46d0-df1c-539f44cf353b"
      },
      "execution_count": 33,
      "outputs": [
        {
          "output_type": "stream",
          "name": "stdout",
          "text": [
            "JUAN\n",
            "MARÍA\n",
            "juan, 20\n",
            "maría, 21\n"
          ]
        }
      ]
    },
    {
      "cell_type": "code",
      "source": [
        "class printingNameAge(object):\n",
        "  def __init__(self,name,age):\n",
        "    print(\"ULEAM 2024\")\n",
        "    self.name=name\n",
        "    self.age=age\n",
        "\n",
        "  def uppercase(self):\n",
        "    return f\"Name: {self.name.upper()} add the Age: {self.age}\"\n",
        "\n",
        "\n",
        "student1=printingNameAge('Carlos',22)\n",
        "print(student1.uppercase())\n"
      ],
      "metadata": {
        "colab": {
          "base_uri": "https://localhost:8080/"
        },
        "id": "dTeoxnLB_zp_",
        "outputId": "75e67e1d-e582-4842-9064-e4e88711873f"
      },
      "execution_count": 43,
      "outputs": [
        {
          "output_type": "stream",
          "name": "stdout",
          "text": [
            "ULEAM 2024\n",
            "Name: CARLOS add the Age: 22\n"
          ]
        }
      ]
    },
    {
      "cell_type": "code",
      "source": [
        "# prompt: crear una clase con funciones que dejen sumar, restar, multiplicar y dividir y agregamos una función para saber si el resultado es par o impar los resultados deben imprimir la operación que se está realizando.\n",
        "\n",
        "class Calculadora:\n",
        "    def __init__(self, numero1, numero2):\n",
        "        self.numero1 = numero1\n",
        "        self.numero2 = numero2\n",
        "\n",
        "    def sumar(self):\n",
        "        resultado = self.numero1 + self.numero2\n",
        "        print(f\"{self.numero1} + {self.numero2} = {resultado}\")\n",
        "        self.es_par(resultado)\n",
        "\n",
        "    def restar(self):\n",
        "        resultado = self.numero1 - self.numero2\n",
        "        print(f\"{self.numero1} - {self.numero2} = {resultado}\")\n",
        "        self.es_par(resultado)\n",
        "\n",
        "    def multiplicar(self):\n",
        "        resultado = self.numero1 * self.numero2\n",
        "        print(f\"{self.numero1} * {self.numero2} = {resultado}\")\n",
        "        self.es_par(resultado)\n",
        "\n",
        "    def dividir(self):\n",
        "        if self.numero2 == 0:\n",
        "            print(\"Error: división por cero\")\n",
        "        else:\n",
        "            resultado = self.numero1 / self.numero2\n",
        "            print(f\"{self.numero1} / {self.numero2} = {resultado}\")\n",
        "            self.es_par(resultado)\n",
        "\n",
        "    def es_par(self, numero):\n",
        "        if numero % 2 == 0:\n",
        "            print(f\"{numero} es par\")\n",
        "        else:\n",
        "            print(f\"{numero} es impar\")\n",
        "\n",
        "# Ejemplo de uso\n",
        "calculadora = Calculadora(10, 5)\n",
        "\n",
        "calculadora.sumar()\n",
        "calculadora.restar()\n",
        "calculadora.multiplicar()\n",
        "calculadora.dividir()\n"
      ],
      "metadata": {
        "colab": {
          "base_uri": "https://localhost:8080/"
        },
        "id": "_Qo0xsPqDNVc",
        "outputId": "11fc1046-9412-44c4-d568-e86cfdd07143"
      },
      "execution_count": 45,
      "outputs": [
        {
          "output_type": "stream",
          "name": "stdout",
          "text": [
            "10 + 5 = 15\n",
            "15 es impar\n",
            "10 - 5 = 5\n",
            "5 es impar\n",
            "10 * 5 = 50\n",
            "50 es par\n",
            "10 / 5 = 2.0\n",
            "2.0 es par\n"
          ]
        }
      ]
    }
  ]
}