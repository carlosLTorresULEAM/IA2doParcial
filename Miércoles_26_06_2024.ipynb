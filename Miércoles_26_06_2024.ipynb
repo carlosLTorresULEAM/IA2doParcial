{
  "nbformat": 4,
  "nbformat_minor": 0,
  "metadata": {
    "colab": {
      "provenance": [],
      "authorship_tag": "ABX9TyMePzcFdAaUaIleg0WpqL1V",
      "include_colab_link": true
    },
    "kernelspec": {
      "name": "python3",
      "display_name": "Python 3"
    },
    "language_info": {
      "name": "python"
    }
  },
  "cells": [
    {
      "cell_type": "markdown",
      "metadata": {
        "id": "view-in-github",
        "colab_type": "text"
      },
      "source": [
        "<a href=\"https://colab.research.google.com/github/carlosLTorresULEAM/IA2doParcial/blob/main/Mi%C3%A9rcoles_26_06_2024.ipynb\" target=\"_parent\"><img src=\"https://colab.research.google.com/assets/colab-badge.svg\" alt=\"Open In Colab\"/></a>"
      ]
    },
    {
      "cell_type": "code",
      "execution_count": 9,
      "metadata": {
        "colab": {
          "base_uri": "https://localhost:8080/"
        },
        "id": "UWhQlFTUuS0X",
        "outputId": "e00e040d-f948-4b8d-aad2-f2cd445b4566"
      },
      "outputs": [
        {
          "output_type": "stream",
          "name": "stdout",
          "text": [
            "{3}\n",
            "{True, 3, 'Carlos'}\n",
            "{True, 5, 3, 'Carlos'}\n",
            "{True, 5, 3}\n",
            "3\n",
            "True\n",
            "True\n",
            "5\n",
            "3\n"
          ]
        }
      ],
      "source": [
        "#SET AS A CONTAINER\n",
        "\n",
        "var1=set()\n",
        "var1.add(3)\n",
        "print(var1)\n",
        "var1.add('Carlos')\n",
        "var1.add(True)\n",
        "print(var1)\n",
        "var1.add(5)\n",
        "print(var1)\n",
        "var1.remove('Carlos')\n",
        "print(var1)\n",
        "print(len(var1))\n",
        "print(3 in var1)\n",
        "\n",
        "for elem in var1:\n",
        "  print(elem)"
      ]
    },
    {
      "cell_type": "code",
      "source": [
        "#JUMPLES\n",
        "var2=tuple()\n",
        "var=(1,2,3,4,5)\n",
        "print(type(var))\n",
        "aux=list(var)\n",
        "print(type(aux))\n",
        "\n",
        "aux[2]=300\n",
        "var=tuple(aux)\n",
        "print(var)\n",
        "print(type(var))"
      ],
      "metadata": {
        "colab": {
          "base_uri": "https://localhost:8080/"
        },
        "id": "XidNoKKxzZt6",
        "outputId": "c2df99ec-90ac-4f48-e55d-d4d68dba19ab"
      },
      "execution_count": 13,
      "outputs": [
        {
          "output_type": "stream",
          "name": "stdout",
          "text": [
            "<class 'tuple'>\n",
            "<class 'list'>\n",
            "(1, 2, 300, 4, 5)\n",
            "<class 'tuple'>\n"
          ]
        }
      ]
    },
    {
      "cell_type": "code",
      "source": [
        "#HOW TO DEFINA TO CLASS\n",
        "class saludo(object):\n",
        "  def __init__(self,name):\n",
        "    print(\"THE ONJECT HAS BEEN CREATE\")\n",
        "    self.name=name\n",
        "\n",
        "  def saludoPersona(self):\n",
        "    return f\"Hola, {self.name}\"\n",
        "\n",
        "name1=saludo('Carlos')\n",
        "name2=saludo('Cesar')\n",
        "name3=saludo('Brandon')\n",
        "\n",
        "print(name1.saludoPersona())\n",
        "print(name2.saludoPersona())\n",
        "print(name3.saludoPersona())\n"
      ],
      "metadata": {
        "colab": {
          "base_uri": "https://localhost:8080/"
        },
        "id": "ErY6C0MM2SZW",
        "outputId": "d4d55742-6265-4243-e0b1-180a1a8c3f10"
      },
      "execution_count": 22,
      "outputs": [
        {
          "output_type": "stream",
          "name": "stdout",
          "text": [
            "THE ONJECT HAS BEEN CREATE\n",
            "THE ONJECT HAS BEEN CREATE\n",
            "THE ONJECT HAS BEEN CREATE\n",
            "Hola, Carlos\n",
            "Hola, Cesar\n",
            "Hola, Brandon\n"
          ]
        }
      ]
    },
    {
      "cell_type": "code",
      "source": [
        "class Calculadora:\n",
        "    def __init__(self, radio, base, altura, lado): #Fixed the typo here, it should be __init__\n",
        "        self.radio = radio\n",
        "        self.base = base\n",
        "        self.altura = altura\n",
        "        self.lado = lado\n",
        "\n",
        "    def area_circulo(self):\n",
        "        return 3.1416 * self.radio ** 2\n",
        "\n",
        "    def area_triangulo(self):\n",
        "        return (self.base * self.altura) / 2\n",
        "\n",
        "    def area_cuadrado(self):\n",
        "      return self.lado ** 2\n",
        "\n",
        "# Example usage\n",
        "calculadora = Calculadora(8, 7, 14, 12)\n",
        "\n",
        "area_circulo = calculadora.area_circulo()\n",
        "print(\"Area del circulo:\", area_circulo)\n",
        "\n",
        "area_triangulo = calculadora.area_triangulo()\n",
        "print(\"Area del triangulo:\", area_triangulo)\n",
        "\n",
        "area_cuadrado = calculadora.area_cuadrado()\n",
        "print(\"Area del cuadrado:\", area_cuadrado)"
      ],
      "metadata": {
        "colab": {
          "base_uri": "https://localhost:8080/"
        },
        "id": "zuTuewVq52gK",
        "outputId": "15d77267-741c-493a-aebe-86aaccd4c532"
      },
      "execution_count": 30,
      "outputs": [
        {
          "output_type": "stream",
          "name": "stdout",
          "text": [
            "Area del circulo: 201.0624\n",
            "Area del triangulo: 49.0\n",
            "Area del cuadrado: 144\n"
          ]
        }
      ]
    }
  ]
}